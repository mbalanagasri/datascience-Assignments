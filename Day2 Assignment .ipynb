{
 "cells": [
  {
   "cell_type": "code",
   "execution_count": 5,
   "metadata": {},
   "outputs": [
    {
     "name": "stdout",
     "output_type": "stream",
     "text": [
      "0\n",
      "2\n",
      "4\n",
      "6\n",
      "8\n"
     ]
    }
   ],
   "source": [
    "#Question 1\n",
    "\n",
    "list=[ ]\n",
    "for i in range(10):\n",
    "    if i%2 == 0:\n",
    "        list.append(i)\n",
    "        print(i)"
   ]
  },
  {
   "cell_type": "code",
   "execution_count": 2,
   "metadata": {},
   "outputs": [
    {
     "name": "stdout",
     "output_type": "stream",
     "text": [
      "List comprehension is the creation of a list with the use of the square brackets with a for loop enclosed inside them.\n"
     ]
    }
   ],
   "source": [
    "#Question 2\n",
    "\n",
    "print(\"List comprehension is the creation of a list with the use of the square brackets with a for loop enclosed inside them.\")"
   ]
  },
  {
   "cell_type": "code",
   "execution_count": 3,
   "metadata": {},
   "outputs": [
    {
     "name": "stdout",
     "output_type": "stream",
     "text": [
      "['h', 'u', 'm', 'a', 'n']\n"
     ]
    }
   ],
   "source": [
    "# Example 1: Iterating through a string Using for Loop\n",
    "h_letters = []\n",
    "\n",
    "for letter in 'human':\n",
    "    h_letters.append(letter)\n",
    "\n",
    "print(h_letters)\n"
   ]
  },
  {
   "cell_type": "code",
   "execution_count": 9,
   "metadata": {},
   "outputs": [
    {
     "name": "stdout",
     "output_type": "stream",
     "text": [
      "9\n",
      "{1: 1, 2: 4, 3: 9, 4: 16, 5: 25, 6: 36, 7: 49, 8: 64, 9: 81}\n"
     ]
    }
   ],
   "source": [
    "#Question 3\n",
    "\n",
    "n=int(input())\n",
    "d = dict()\n",
    "\n",
    "for x in range(1,n+1):\n",
    "    d[x]=x*x\n",
    "print(d) \n"
   ]
  },
  {
   "cell_type": "code",
   "execution_count": 40,
   "metadata": {},
   "outputs": [
    {
     "name": "stdout",
     "output_type": "stream",
     "text": [
      "4\n",
      "5\n",
      "['5']\n",
      "3\n",
      "['3']\n",
      "3\n",
      "['3']\n",
      "2\n",
      "['2']\n",
      "0\n"
     ]
    }
   ],
   "source": [
    "# Question 4\n",
    "\n",
    "pos = {'x':0,'y':0}\n",
    "num = int(input())\n",
    "\n",
    "for _ in range (num):\n",
    "    command =  input().split(' ')      # ACCEPT MOVEMENT COMMAND AND STORE AS A LIST\n",
    "    print(command)\n",
    "    if command[0] == 'UP':             # EXTRACT DIRECTION AND COMPARE\n",
    "        pos['y'] += int(command[1])    # INCREMENT/DECREMENT APPROPRIATE CO-ORDINATES\n",
    "    if command[0] == 'DOWN':\n",
    "        pos['y'] -= int(command[1])\n",
    "    if command[0] == 'LEFT':\n",
    "        pos['x'] -= int(command[1])\n",
    "    if command[0] == 'RIGHT':\n",
    "        pos['x'] += int(command[1])\n",
    "\n",
    "print(round((pos['x']**2 + pos['y']**2)**0.5))   # DISTANCE FROM ORIGIN"
   ]
  },
  {
   "cell_type": "code",
   "execution_count": null,
   "metadata": {},
   "outputs": [],
   "source": []
  }
 ],
 "metadata": {
  "kernelspec": {
   "display_name": "Python 3",
   "language": "python",
   "name": "python3"
  },
  "language_info": {
   "codemirror_mode": {
    "name": "ipython",
    "version": 3
   },
   "file_extension": ".py",
   "mimetype": "text/x-python",
   "name": "python",
   "nbconvert_exporter": "python",
   "pygments_lexer": "ipython3",
   "version": "3.9.0"
  }
 },
 "nbformat": 4,
 "nbformat_minor": 4
}
