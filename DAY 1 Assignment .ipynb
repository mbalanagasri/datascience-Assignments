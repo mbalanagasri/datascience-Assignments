{
 "cells": [
  {
   "cell_type": "code",
   "execution_count": 28,
   "metadata": {},
   "outputs": [
    {
     "name": "stdout",
     "output_type": "stream",
     "text": [
      "RAINBOW\n"
     ]
    }
   ],
   "source": [
    "#Question `1\n",
    "print(\"RAINBOW\")\n"
   ]
  },
  {
   "cell_type": "code",
   "execution_count": 12,
   "metadata": {},
   "outputs": [
    {
     "name": "stdout",
     "output_type": "stream",
     "text": [
      "lets upgrades\n",
      " LETS UPGRADES\n"
     ]
    }
   ],
   "source": [
    "#Question 2\n",
    "\n",
    "string=input()\n",
    "result=string.upper()\n",
    "print(\"\",result)"
   ]
  },
  {
   "cell_type": "code",
   "execution_count": 16,
   "metadata": {},
   "outputs": [
    {
     "name": "stdout",
     "output_type": "stream",
     "text": [
      "20\n",
      "10\n",
      "LOSS\n"
     ]
    }
   ],
   "source": [
    " #Question 3\n",
    "    \n",
    "cost_price = int(input())\n",
    "selling_price = int(input())\n",
    " \n",
    "if(cost_price > selling_price):\n",
    "    amount = cost_price - selling_price\n",
    "    print(\"LOSS\")\n",
    "elif(selling_price > cost_price):\n",
    "    amount = selling_price - cost_price\n",
    "    print(\"PROFIT\")\n",
    "else:\n",
    "    print(\"NEITHER\")"
   ]
  },
  {
   "cell_type": "code",
   "execution_count": 26,
   "metadata": {},
   "outputs": [
    {
     "name": "stdout",
     "output_type": "stream",
     "text": [
      "7\n",
      "560\n"
     ]
    }
   ],
   "source": [
    "#Question 4\n",
    "\n",
    "Euros=int(input())\n",
    "INR=Euros*80\n",
    "print(INR)"
   ]
  },
  {
   "cell_type": "code",
   "execution_count": null,
   "metadata": {},
   "outputs": [],
   "source": []
  }
 ],
 "metadata": {
  "kernelspec": {
   "display_name": "Python 3",
   "language": "python",
   "name": "python3"
  },
  "language_info": {
   "codemirror_mode": {
    "name": "ipython",
    "version": 3
   },
   "file_extension": ".py",
   "mimetype": "text/x-python",
   "name": "python",
   "nbconvert_exporter": "python",
   "pygments_lexer": "ipython3",
   "version": "3.9.0"
  }
 },
 "nbformat": 4,
 "nbformat_minor": 4
}
